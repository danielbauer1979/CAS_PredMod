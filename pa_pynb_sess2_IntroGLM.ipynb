{
  "nbformat": 4,
  "nbformat_minor": 0,
  "metadata": {
    "kernelspec": {
      "display_name": "Python 3",
      "language": "python",
      "name": "python3"
    },
    "language_info": {
      "codemirror_mode": {
        "name": "ipython",
        "version": 3
      },
      "file_extension": ".py",
      "mimetype": "text/x-python",
      "name": "python",
      "nbconvert_exporter": "python",
      "pygments_lexer": "ipython3",
      "version": "3.8.3"
    },
    "colab": {
      "provenance": [],
      "collapsed_sections": [],
      "include_colab_link": true
    }
  },
  "cells": [
    {
      "cell_type": "markdown",
      "metadata": {
        "id": "view-in-github",
        "colab_type": "text"
      },
      "source": [
        "<a href=\"https://colab.research.google.com/github/danielbauer1979/CAS_PredMod/blob/main/pa_pynb_sess2_IntroGLM.ipynb\" target=\"_parent\"><img src=\"https://colab.research.google.com/assets/colab-badge.svg\" alt=\"Open In Colab\"/></a>"
      ]
    },
    {
      "cell_type": "markdown",
      "source": [
        "#Session 2 -- Intro to GLM: Gamma and Poisson Regression\n",
        "Dani Bauer, 9/8/2022\n",
        "\n",
        "In this tutorial, we will see Poisson and Gamma regression in action.  We will cover two examples that go a little beyond of what was covered in class."
      ],
      "metadata": {
        "id": "C_YpLbrkglCu"
      }
    },
    {
      "cell_type": "markdown",
      "source": [
        "Let's start by loading the libraries that are going to be helpful. We're going to rely on the statistical learning toolkit [ski-cit learn](https://scikit-learn.org/stable/index.html), which provides GLM functionalty but also will be used in the context of algorithmic learners. It is less comfortable to use than some of the other packages and, unlike R, does not support formulas. But it is versatile and fast, and therefore one of the most popular prdictive modeling toolkits."
      ],
      "metadata": {
        "id": "LpmpLD0WhMNi"
      }
    },
    {
      "cell_type": "code",
      "metadata": {
        "id": "aL8OZzdpMbDG"
      },
      "source": [
        "import numpy as np \n",
        "import pandas as pd\n",
        "import matplotlib.pyplot as plt\n",
        "from sklearn.model_selection import train_test_split\n",
        "from sklearn.linear_model import PoissonRegressor\n",
        "from sklearn.linear_model import GammaRegressor"
      ],
      "execution_count": 1,
      "outputs": []
    },
    {
      "cell_type": "markdown",
      "source": [
        "## Gamma Regression\n",
        "\n",
        "We consider a Gamma regression on a group data set.  More precisely, the data are auto collision losses grouped by ages and vehicle usages.  We are interested in predicting the loss  severity based on age and usage.  \n",
        "\n",
        "The underlying dataset is a \"classical\" one in the actuarial literature used by Baxter, Coutts, and Ross (1980), McCullagh and Nelder (1989), Mildenhall (1999), and Frees (2010).\n",
        "\n",
        "Let's take a look."
      ],
      "metadata": {
        "id": "gZu26MYxhcnO"
      }
    },
    {
      "cell_type": "code",
      "metadata": {
        "id": "_Bglok6-BCHZ"
      },
      "source": [
        "!git clone https://github.com/danielbauer1979/CAS_PredMod.git"
      ],
      "execution_count": null,
      "outputs": []
    },
    {
      "cell_type": "code",
      "metadata": {
        "id": "oUQXZq64MbDI"
      },
      "source": [
        "dat_autocoll = pd.read_csv('CAS_PredMod/pa_data_AutoCollision.csv')\n",
        "dat_autocoll"
      ],
      "execution_count": null,
      "outputs": []
    },
    {
      "cell_type": "code",
      "metadata": {
        "id": "Npw581FNMbDJ"
      },
      "source": [
        "dat_autocoll.describe()"
      ],
      "execution_count": null,
      "outputs": []
    },
    {
      "cell_type": "code",
      "metadata": {
        "id": "e__rQGGOEfK7"
      },
      "source": [
        "losses = dat_autocoll['Severity'] * dat_autocoll['Claim_Count']\n",
        "dat_autocoll = dat_autocoll.assign(Loss=losses)"
      ],
      "execution_count": 5,
      "outputs": []
    },
    {
      "cell_type": "markdown",
      "source": [
        "Let's see how claim counts and severities vary by age: "
      ],
      "metadata": {
        "id": "PFoIRtu1muWJ"
      }
    },
    {
      "cell_type": "code",
      "source": [
        "dat_autocoll_byage = dat_autocoll.groupby('Age').sum()\n",
        "plt.bar(['A','B','C','D','E','F','G','H'],dat_autocoll_byage['Claim_Count'])\n",
        "plt.show()"
      ],
      "metadata": {
        "id": "li1KEPozjmcz"
      },
      "execution_count": null,
      "outputs": []
    },
    {
      "cell_type": "code",
      "source": [
        "plt.bar(['A','B','C','D','E','F','G','H'],dat_autocoll_byage['Loss']/dat_autocoll_byage['Claim_Count'])\n",
        "plt.show()"
      ],
      "metadata": {
        "id": "ijxY7_nPjmkv"
      },
      "execution_count": null,
      "outputs": []
    },
    {
      "cell_type": "markdown",
      "source": [
        "So it seems like higher ages (by letter) have more claims but those claims, on average, are milder.\n",
        "\n",
        "Let's do the same for Vehicle use:"
      ],
      "metadata": {
        "id": "dQiKxJEgnVqY"
      }
    },
    {
      "cell_type": "code",
      "source": [
        "dat_autocoll_byuse = dat_autocoll.groupby('Vehicle_Use').sum()\n",
        "dat_autocoll_byuse"
      ],
      "metadata": {
        "id": "lVF9AvLmnfOP"
      },
      "execution_count": null,
      "outputs": []
    },
    {
      "cell_type": "code",
      "source": [
        "plt.bar(['Business','DriveLong','DriveShort','Pleasure'],dat_autocoll_byuse['Claim_Count'])\n",
        "plt.show()"
      ],
      "metadata": {
        "id": "4x_jDM62nfp1"
      },
      "execution_count": null,
      "outputs": []
    },
    {
      "cell_type": "code",
      "source": [
        "plt.bar(['Business','DriveLong','DriveShort','Pleasure'],dat_autocoll_byuse['Loss']/dat_autocoll_byuse['Claim_Count'])\n",
        "plt.show()"
      ],
      "metadata": {
        "id": "ZO0VmIynoDny"
      },
      "execution_count": null,
      "outputs": []
    },
    {
      "cell_type": "markdown",
      "source": [
        "So Business claims are less frequent but, again, more severe.\n",
        "\n",
        "Hence, overall, it appears there is a clear relationship between the groups and incurred loss severities. Let's try to model this via a regression model."
      ],
      "metadata": {
        "id": "-CLWqiTIoSzw"
      }
    },
    {
      "cell_type": "markdown",
      "source": [
        "Let's fit a Gamma regression model with a log link function, which is the default for Gamma regression in ski-kit learn (see [the documentation here](https://scikit-learn.org/stable/modules/generated/sklearn.linear_model.GammaRegressor.html))."
      ],
      "metadata": {
        "id": "32b6olRNoafj"
      }
    },
    {
      "cell_type": "markdown",
      "source": [
        "We need to prep the data by commuting the categorical variables to dummies. Those will be our feature matrix $X$."
      ],
      "metadata": {
        "id": "0u9kohckoac1"
      }
    },
    {
      "cell_type": "code",
      "source": [
        "X = pd.get_dummies(dat_autocoll[dat_autocoll.columns[[0,1]]])\n",
        "X.head()"
      ],
      "metadata": {
        "id": "FWJ62KOMyoVk"
      },
      "execution_count": null,
      "outputs": []
    },
    {
      "cell_type": "markdown",
      "source": [
        "The labels are going to be the severities:"
      ],
      "metadata": {
        "id": "en3SqnCEzT-p"
      }
    },
    {
      "cell_type": "code",
      "source": [
        "y = dat_autocoll['Severity']"
      ],
      "metadata": {
        "id": "YqZsN7mlzTr6"
      },
      "execution_count": 12,
      "outputs": []
    },
    {
      "cell_type": "markdown",
      "source": [
        "Now we can fit our Gamma regression model as follows:"
      ],
      "metadata": {
        "id": "jYYhZuSfztMs"
      }
    },
    {
      "cell_type": "code",
      "source": [
        "sevmodel = GammaRegressor(alpha=0)\n",
        "sevmodel.fit(X,y)"
      ],
      "metadata": {
        "id": "NyR1l8mdy-I4"
      },
      "execution_count": null,
      "outputs": []
    },
    {
      "cell_type": "markdown",
      "source": [
        "Let's check out the fit by plotting predictions against realizations:"
      ],
      "metadata": {
        "id": "PLEbVzez0GsI"
      }
    },
    {
      "cell_type": "code",
      "source": [
        "plt.scatter(y,sevmodel.predict(X))"
      ],
      "metadata": {
        "id": "M8Imw9HJ0MKT"
      },
      "execution_count": null,
      "outputs": []
    },
    {
      "cell_type": "markdown",
      "source": [
        "The coefficients are:"
      ],
      "metadata": {
        "id": "q8n4fhUOoaZR"
      }
    },
    {
      "cell_type": "code",
      "source": [
        "sevmodel.coef_"
      ],
      "metadata": {
        "id": "bO1Rb8Qk0W6V"
      },
      "execution_count": null,
      "outputs": []
    },
    {
      "cell_type": "markdown",
      "source": [
        "But there is a twist: Should we allow all observations to have equal weight? After all, some groups have relatively small claim counts, some have greater claim counts. If we want to understand how a certain age group influences severities, we should probably lend more credibility to those group observations with large claim numbers.\n",
        "\n",
        "We can do just that by weighting the severity observations by the claim counts."
      ],
      "metadata": {
        "id": "wSa30-TmoaWS"
      }
    },
    {
      "cell_type": "code",
      "source": [
        "sevmodel2 = GammaRegressor(alpha=0)\n",
        "sevmodel2.fit(X,y,dat_autocoll['Claim_Count'])\n",
        "sevmodel2.coef_"
      ],
      "metadata": {
        "id": "DF1NajXf1JyC"
      },
      "execution_count": null,
      "outputs": []
    },
    {
      "cell_type": "markdown",
      "source": [
        "Quite a difference. Let's look at the predictions:"
      ],
      "metadata": {
        "id": "kYGQ9JX_oaTl"
      }
    },
    {
      "cell_type": "code",
      "source": [
        "plt.scatter(y,sevmodel2.predict(X))"
      ],
      "metadata": {
        "id": "uVv46GxI1qb6"
      },
      "execution_count": null,
      "outputs": []
    },
    {
      "cell_type": "markdown",
      "source": [
        "Again, they look differently. One of the key reasons is that the observation with a severity of close to 800 only has very few claims. Hence, there is little credibility."
      ],
      "metadata": {
        "id": "KXYa-VTx2LCV"
      }
    },
    {
      "cell_type": "markdown",
      "source": [
        "## Poisson Regression"
      ],
      "metadata": {
        "id": "EaeXzmi22wnK"
      }
    },
    {
      "cell_type": "markdown",
      "source": [
        "Similarly to before, we consider a Poisson regression on a grouped data set. More precisely, we have deaths counts for a set of diabetes patients that differ by age and gender. Obviously, we are looking to predict death rates -- deaths per exposure -- as a function of age and gender."
      ],
      "metadata": {
        "id": "IX94vSzR27M8"
      }
    },
    {
      "cell_type": "code",
      "source": [
        "dat_diab = pd.read_csv('CAS_PredMod/pa_data_deJongHeller_diabetes.csv')\n",
        "dat_diab"
      ],
      "metadata": {
        "id": "sxYsP7Fb2Kry"
      },
      "execution_count": null,
      "outputs": []
    },
    {
      "cell_type": "markdown",
      "source": [
        "Let's look at death rates:"
      ],
      "metadata": {
        "id": "aEetpTh93YCh"
      }
    },
    {
      "cell_type": "code",
      "source": [
        "death_rate = dat_diab['deaths'] / dat_diab['pop']\n",
        "dat_diab = dat_diab.assign(deathrate=death_rate)"
      ],
      "metadata": {
        "id": "7Z2S-3pE3Jft"
      },
      "execution_count": 22,
      "outputs": []
    },
    {
      "cell_type": "code",
      "source": [
        "plt.bar(dat_diab[dat_diab['gender']=='Male']['age'],dat_diab[dat_diab['gender']=='Male']['deathrate'])\n",
        "plt.bar(dat_diab[dat_diab['gender']=='Female']['age'],dat_diab[dat_diab['gender']=='Female']['deathrate'])\n",
        "plt.show()"
      ],
      "metadata": {
        "id": "r-q9okPR4FWe"
      },
      "execution_count": null,
      "outputs": []
    },
    {
      "cell_type": "markdown",
      "source": [
        "Clearly, death rates are higher for Males. "
      ],
      "metadata": {
        "id": "SzROf2mW5h49"
      }
    },
    {
      "cell_type": "markdown",
      "source": [
        "### First Effort\n",
        "\n",
        "Let's commence with a basic Poisson regression."
      ],
      "metadata": {
        "id": "zu5wgGbshJ57"
      }
    },
    {
      "cell_type": "markdown",
      "source": [
        "Again, we need to transform the categorical variable (gender) to dummies:"
      ],
      "metadata": {
        "id": "FFzUFYbT7sE3"
      }
    },
    {
      "cell_type": "code",
      "metadata": {
        "id": "XGomSaWpG_bl"
      },
      "source": [
        "dummies = pd.get_dummies(dat_diab['gender'])\n",
        "X = pd.concat([dummies,dat_diab['ageMid']], axis=1)\n",
        "X"
      ],
      "execution_count": null,
      "outputs": []
    },
    {
      "cell_type": "code",
      "metadata": {
        "colab": {
          "base_uri": "https://localhost:8080/"
        },
        "id": "kjSS_F-lKOxO",
        "outputId": "cd4d5619-cfa6-4d03-8985-cc0b2ccbab73"
      },
      "source": [
        "y = dat_diab['deaths']\n",
        "mortmodel = PoissonRegressor(alpha=0)\n",
        "mortmodel.fit(X,y)"
      ],
      "execution_count": 25,
      "outputs": [
        {
          "output_type": "execute_result",
          "data": {
            "text/plain": [
              "PoissonRegressor(alpha=0)"
            ]
          },
          "metadata": {},
          "execution_count": 25
        }
      ]
    },
    {
      "cell_type": "markdown",
      "source": [
        "Here are the coefficients:"
      ],
      "metadata": {
        "id": "JMGCCEXT_Eun"
      }
    },
    {
      "cell_type": "code",
      "source": [
        "mortmodel.coef_"
      ],
      "metadata": {
        "id": "Zjy6Q4fV_FUP"
      },
      "execution_count": null,
      "outputs": []
    },
    {
      "cell_type": "markdown",
      "source": [
        "Let's look at the model fit:"
      ],
      "metadata": {
        "id": "vUKshckw_J3Q"
      }
    },
    {
      "cell_type": "code",
      "metadata": {
        "id": "WfqWyDw-MniH"
      },
      "source": [
        "plt.scatter(y,mortmodel.predict(X))"
      ],
      "execution_count": null,
      "outputs": []
    },
    {
      "cell_type": "markdown",
      "source": [
        "One problem here is that we are not considering the population size. This explains the two outliers. We can account for that by incorporating offsets."
      ],
      "metadata": {
        "id": "jZQ4RZHN_OHq"
      }
    },
    {
      "cell_type": "markdown",
      "source": [
        "### Second Try\n",
        "\n",
        "Let's instead consider a Poisson regression with offset:where we use log popolation count as an offset since we are interested in rates ($log\\{{\\rm E}(d)/l\\} = \\beta_0 + \\beta_1\\,x \\Leftrightarrow log\\{{\\rm E}(d)\\} = \\log\\{l\\} + \\beta_0 + \\beta_1\\,x$). \n",
        "\n",
        "We can accomplish that via a (quasi-)Poisson model with death rate as response and the population counts as the weights:"
      ],
      "metadata": {
        "id": "Z_1VdcM7_miy"
      }
    },
    {
      "cell_type": "code",
      "source": [
        "y = dat_diab['deathrate']\n",
        "mortmodel2 = PoissonRegressor(alpha=0)\n",
        "mortmodel2.fit(X,y,dat_diab['pop'])"
      ],
      "metadata": {
        "id": "Z87EuVOlAIi5"
      },
      "execution_count": null,
      "outputs": []
    },
    {
      "cell_type": "markdown",
      "source": [
        "Let's look at the coefficients"
      ],
      "metadata": {
        "id": "oRW8Az4oAnxK"
      }
    },
    {
      "cell_type": "code",
      "source": [
        "mortmodel2.coef_"
      ],
      "metadata": {
        "id": "f55iA-ffAgir"
      },
      "execution_count": null,
      "outputs": []
    },
    {
      "cell_type": "markdown",
      "source": [
        "Again, this is quite a drastic change. The coefficient on age (as a Gompertz parameter) is closer to 11% versus around 5% before. Let's check the preditions of death counts now:"
      ],
      "metadata": {
        "id": "QRW4yn73Aqw0"
      }
    },
    {
      "cell_type": "code",
      "source": [
        "plt.scatter(dat_diab['deaths'],mortmodel2.predict(X)*dat_diab['pop'])"
      ],
      "metadata": {
        "id": "rRe6HBhzBFZ8"
      },
      "execution_count": null,
      "outputs": []
    },
    {
      "cell_type": "markdown",
      "source": [
        "Clearly better!!"
      ],
      "metadata": {
        "id": "bNCsD3z5BrAN"
      }
    }
  ]
}