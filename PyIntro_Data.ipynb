{
  "nbformat": 4,
  "nbformat_minor": 0,
  "metadata": {
    "colab": {
      "name": "PyIntro_Data.ipynb",
      "provenance": [],
      "collapsed_sections": [],
      "authorship_tag": "ABX9TyM+xE0vHWYXKGg+ANE3KXNl",
      "include_colab_link": true
    },
    "kernelspec": {
      "name": "python3",
      "display_name": "Python 3"
    },
    "language_info": {
      "name": "python"
    }
  },
  "cells": [
    {
      "cell_type": "markdown",
      "metadata": {
        "id": "view-in-github",
        "colab_type": "text"
      },
      "source": [
        "<a href=\"https://colab.research.google.com/github/danielbauer1979/CAS_PredMod/blob/main/PyIntro_Data.ipynb\" target=\"_parent\"><img src=\"https://colab.research.google.com/assets/colab-badge.svg\" alt=\"Open In Colab\"/></a>"
      ]
    },
    {
      "cell_type": "markdown",
      "source": [
        "## **Getting Started with Python and Colab**\n",
        "\n",
        "Daniel Bauer, Peng Shi, University of Wisconsin-Madison\n",
        "\n",
        "In this tutorial, you will take first steps in Python."
      ],
      "metadata": {
        "id": "5AN5YXNWBfLt"
      }
    },
    {
      "cell_type": "markdown",
      "source": [
        "# Work with scalar data"
      ],
      "metadata": {
        "id": "Bwb0LWRVBxsl"
      }
    },
    {
      "cell_type": "markdown",
      "source": [
        "Numerical Data"
      ],
      "metadata": {
        "id": "KkUd2aaUDMax"
      }
    },
    {
      "cell_type": "code",
      "execution_count": null,
      "metadata": {
        "id": "20oCSwPfBWQW"
      },
      "outputs": [],
      "source": [
        "a = 5\n",
        "a"
      ]
    },
    {
      "cell_type": "code",
      "source": [
        "b = 2\n",
        "a+b"
      ],
      "metadata": {
        "id": "Vu8HBF04CZdK"
      },
      "execution_count": null,
      "outputs": []
    },
    {
      "cell_type": "code",
      "source": [
        "print(\"a*b = \",a*b,\"and a-b =\", a-b)"
      ],
      "metadata": {
        "id": "MyqpP10hCmh3"
      },
      "execution_count": null,
      "outputs": []
    },
    {
      "cell_type": "markdown",
      "source": [
        "Text Data"
      ],
      "metadata": {
        "id": "ZmY6I3TDDSlk"
      }
    },
    {
      "cell_type": "code",
      "source": [
        "a = \"fire\"\n",
        "b = \"wind\"\n",
        "a"
      ],
      "metadata": {
        "id": "_Bt-7GI8DVly"
      },
      "execution_count": null,
      "outputs": []
    },
    {
      "cell_type": "code",
      "source": [
        "a == b"
      ],
      "metadata": {
        "id": "tiMzQKEiDevR"
      },
      "execution_count": null,
      "outputs": []
    },
    {
      "cell_type": "code",
      "source": [
        "a != b"
      ],
      "metadata": {
        "id": "3HWD2XovDher"
      },
      "execution_count": null,
      "outputs": []
    },
    {
      "cell_type": "markdown",
      "source": [
        "# Sequences and Vectors"
      ],
      "metadata": {
        "id": "h4u69RxXDxkK"
      }
    },
    {
      "cell_type": "code",
      "source": [
        "x = range(3)\n",
        "for i in x:\n",
        "  print(i)"
      ],
      "metadata": {
        "id": "S8HMUSUyEV-R"
      },
      "execution_count": null,
      "outputs": []
    },
    {
      "cell_type": "code",
      "source": [
        "y = range(2,11,3)\n",
        "for i in y:\n",
        "  print(i)"
      ],
      "metadata": {
        "id": "5xK4-DZ7FHnQ"
      },
      "execution_count": null,
      "outputs": []
    },
    {
      "cell_type": "code",
      "source": [
        "x + y"
      ],
      "metadata": {
        "id": "BNZu0WNeFaFs"
      },
      "execution_count": null,
      "outputs": []
    },
    {
      "cell_type": "code",
      "source": [
        "import numpy as np"
      ],
      "metadata": {
        "id": "dkx4ndQfFlrK"
      },
      "execution_count": null,
      "outputs": []
    },
    {
      "cell_type": "code",
      "source": [
        "list_x = [0,1,2]\n",
        "x = np.array(list_x)\n",
        "x"
      ],
      "metadata": {
        "id": "LpzJ2AQzFwt7"
      },
      "execution_count": null,
      "outputs": []
    },
    {
      "cell_type": "code",
      "source": [
        "y = np.array([2,5,8])\n",
        "x + y"
      ],
      "metadata": {
        "id": "oDqK91PjGXdq"
      },
      "execution_count": null,
      "outputs": []
    },
    {
      "cell_type": "code",
      "source": [
        "x * y"
      ],
      "metadata": {
        "id": "BYTGx-0WGhTG"
      },
      "execution_count": null,
      "outputs": []
    },
    {
      "cell_type": "code",
      "source": [
        "print(x.dot(y))"
      ],
      "metadata": {
        "id": "CKwqY6ogGlot"
      },
      "execution_count": null,
      "outputs": []
    },
    {
      "cell_type": "markdown",
      "source": [
        "# Matrices "
      ],
      "metadata": {
        "id": "K4Umn92aIOun"
      }
    },
    {
      "cell_type": "code",
      "source": [
        "a1 = np.array([[1, 1],\n",
        "               [2, 2]])\n",
        "a2 = np.array([[3, 3],\n",
        "               [4, 4]])\n",
        "a1 + a2"
      ],
      "metadata": {
        "id": "8mokYQLJISK6"
      },
      "execution_count": null,
      "outputs": []
    },
    {
      "cell_type": "code",
      "source": [
        "a1.transpose()"
      ],
      "metadata": {
        "id": "8KlbEiVzIt7H"
      },
      "execution_count": null,
      "outputs": []
    },
    {
      "cell_type": "code",
      "source": [
        "a1 * a2"
      ],
      "metadata": {
        "id": "lfRcZOWyI2gl"
      },
      "execution_count": null,
      "outputs": []
    },
    {
      "cell_type": "code",
      "source": [
        "a3 = np.dot(a1,a2)\n",
        "a3"
      ],
      "metadata": {
        "id": "eZPqjo0rJR7C"
      },
      "execution_count": null,
      "outputs": []
    },
    {
      "cell_type": "markdown",
      "source": [
        "# Data"
      ],
      "metadata": {
        "id": "zVxG0LH1Je4I"
      }
    },
    {
      "cell_type": "code",
      "source": [
        "d = {'index': [1, 2, 3], 'loss': [100, 500, 200], 'peril': [\"fire\",\"water\",\"wind\"]}"
      ],
      "metadata": {
        "id": "k3-lDAerKDFZ"
      },
      "execution_count": null,
      "outputs": []
    },
    {
      "cell_type": "code",
      "source": [
        "import pandas as pd"
      ],
      "metadata": {
        "id": "8JQY7NeSKX_x"
      },
      "execution_count": null,
      "outputs": []
    },
    {
      "cell_type": "code",
      "source": [
        "df = pd.DataFrame(data=d)\n",
        "df"
      ],
      "metadata": {
        "id": "3CeP6NY7KbbW"
      },
      "execution_count": null,
      "outputs": []
    },
    {
      "cell_type": "code",
      "source": [
        "!git clone https://github.com/danielbauer1979/CAS_PredMod.git"
      ],
      "metadata": {
        "id": "Vc1_jOpNKkU6"
      },
      "execution_count": null,
      "outputs": []
    },
    {
      "cell_type": "code",
      "source": [
        "df2 = pd.read_csv('CAS_PredMod/claimDat.csv')\n",
        "df2"
      ],
      "metadata": {
        "id": "l4l6zZk9Kw_A"
      },
      "execution_count": null,
      "outputs": []
    }
  ]
}