{
  "nbformat": 4,
  "nbformat_minor": 0,
  "metadata": {
    "kernelspec": {
      "display_name": "Python 3",
      "language": "python",
      "name": "python3"
    },
    "language_info": {
      "codemirror_mode": {
        "name": "ipython",
        "version": 3
      },
      "file_extension": ".py",
      "mimetype": "text/x-python",
      "name": "python",
      "nbconvert_exporter": "python",
      "pygments_lexer": "ipython3",
      "version": "3.8.3"
    },
    "colab": {
      "provenance": [],
      "collapsed_sections": [],
      "include_colab_link": true
    }
  },
  "cells": [
    {
      "cell_type": "markdown",
      "metadata": {
        "id": "view-in-github",
        "colab_type": "text"
      },
      "source": [
        "<a href=\"https://colab.research.google.com/github/danielbauer1979/CAS_PredMod/blob/main/pa_pynb_sess1_RegressionAndBoostrap.ipynb\" target=\"_parent\"><img src=\"https://colab.research.google.com/assets/colab-badge.svg\" alt=\"Open In Colab\"/></a>"
      ]
    },
    {
      "cell_type": "markdown",
      "source": [
        "# Session 1 -- Intro, Regression, Bootstrap\n",
        "Dani Bauer\n",
        "9/4/2022"
      ],
      "metadata": {
        "id": "HO7UGrGynGi2"
      }
    },
    {
      "cell_type": "markdown",
      "source": [
        "In this tutorial, you will take first steps with programming in Py in the context of a bootstrap example. We will then demonstrate how to use the boostrapping more generally in the context of a risk measurement example. We will then review linear regression."
      ],
      "metadata": {
        "id": "N61KZ3fonYI4"
      }
    },
    {
      "cell_type": "markdown",
      "source": [
        "We start by importing some of the key libraries. Python by itself is pretty bare-bones, so we have to import most the functionality we required."
      ],
      "metadata": {
        "id": "4l4SqhWKnrUu"
      }
    },
    {
      "cell_type": "code",
      "metadata": {
        "id": "ngbmVodjrNSm"
      },
      "source": [
        "import pandas as pd #the key statistical library\n",
        "import numpy as np #the key numerical library\n",
        "import math\n",
        "import matplotlib.pyplot as plt #one of the primary plotting libraries\n",
        "import statsmodels.api as sm #provides simple regression models, allows for formulas like R\n",
        "import scipy.stats as st"
      ],
      "execution_count": 1,
      "outputs": []
    },
    {
      "cell_type": "markdown",
      "source": [
        "Plus we will clone our [github repository](https://github.com/danielbauer1979/CAS_PredMod) so as to have all the data available."
      ],
      "metadata": {
        "id": "WOZ03ac0oPZM"
      }
    },
    {
      "cell_type": "code",
      "source": [
        "!git clone https://github.com/danielbauer1979/CAS_PredMod.git"
      ],
      "metadata": {
        "colab": {
          "base_uri": "https://localhost:8080/"
        },
        "id": "nI4VDNDTmQzA",
        "outputId": "7e066216-6ab6-45ca-9acc-3d240a864a16"
      },
      "execution_count": 2,
      "outputs": [
        {
          "output_type": "stream",
          "name": "stdout",
          "text": [
            "Cloning into 'CAS_PredMod'...\n",
            "remote: Enumerating objects: 19, done.\u001b[K\n",
            "remote: Counting objects: 100% (19/19), done.\u001b[K\n",
            "remote: Compressing objects: 100% (16/16), done.\u001b[K\n",
            "remote: Total 19 (delta 3), reused 0 (delta 0), pack-reused 0\u001b[K\n",
            "Unpacking objects: 100% (19/19), done.\n"
          ]
        }
      ]
    },
    {
      "cell_type": "markdown",
      "source": [
        "## Intro to Python via a Bootstrap Example"
      ],
      "metadata": {
        "id": "zz5hkAQ8pgMY"
      }
    },
    {
      "cell_type": "markdown",
      "source": [
        "### Some basic Python functionality"
      ],
      "metadata": {
        "id": "OllbacIzpqT7"
      }
    },
    {
      "cell_type": "markdown",
      "source": [
        "We start out by generating $n=1,000$ [Gamma distributed](https://en.wikipedia.org/wiki/Gamma_distribution) random variables with parameters $\\alpha=3$ and $\\theta =100$. In a simulation exercise, it is always helpful to fix the seed for the random number generation such that the code is reproducible."
      ],
      "metadata": {
        "id": "WfBA3JMHpxem"
      }
    },
    {
      "cell_type": "code",
      "source": [
        "np.random.seed(42) #set seed\n",
        "\n",
        "alpha = 3\n",
        "theta = 100\n",
        "nsim = 1000\n",
        "\n",
        "x = np.random.gamma(alpha, theta, nsim)"
      ],
      "metadata": {
        "id": "NqhK8zfPqTXG"
      },
      "execution_count": 3,
      "outputs": []
    },
    {
      "cell_type": "markdown",
      "source": [
        "Let's plot a simple histogram via matplotlib."
      ],
      "metadata": {
        "id": "aBhfPYbRr7t9"
      }
    },
    {
      "cell_type": "code",
      "source": [
        "plt.hist(x)\n",
        "plt.show() "
      ],
      "metadata": {
        "colab": {
          "base_uri": "https://localhost:8080/",
          "height": 267
        },
        "id": "czfM8znDrx3m",
        "outputId": "5f11ae0f-740d-4a23-9d5c-076f8de7f90e"
      },
      "execution_count": 4,
      "outputs": [
        {
          "output_type": "display_data",
          "data": {
            "text/plain": [
              "<Figure size 432x288 with 1 Axes>"
            ],
            "image/png": "[encoded data removed]"
          },
          "metadata": {
            "needs_background": "light"
          }
        }
      ]
    },
    {
      "cell_type": "markdown",
      "source": [
        "And let's calculate some aggregate statistics"
      ],
      "metadata": {
        "id": "hWaKv0tasDP7"
      }
    },
    {
      "cell_type": "code",
      "source": [
        "x.mean() #mean"
      ],
      "metadata": {
        "colab": {
          "base_uri": "https://localhost:8080/"
        },
        "id": "4sOPA4RKr19r",
        "outputId": "81042176-35d6-4dca-e616-67c6890daa2e"
      },
      "execution_count": 5,
      "outputs": [
        {
          "output_type": "execute_result",
          "data": {
            "text/plain": [
              "307.7501362786998"
            ]
          },
          "metadata": {},
          "execution_count": 5
        }
      ]
    },
    {
      "cell_type": "code",
      "source": [
        "x.var() #variance"
      ],
      "metadata": {
        "colab": {
          "base_uri": "https://localhost:8080/"
        },
        "id": "CmONtDSYsHN2",
        "outputId": "322daa4f-0235-4147-d7f2-60adff32003a"
      },
      "execution_count": 6,
      "outputs": [
        {
          "output_type": "execute_result",
          "data": {
            "text/plain": [
              "29446.632286027907"
            ]
          },
          "metadata": {},
          "execution_count": 6
        }
      ]
    },
    {
      "cell_type": "markdown",
      "source": [
        "Of course, we know the \"true\" expected value and variance here:"
      ],
      "metadata": {
        "id": "24XY1bAgtKyK"
      }
    },
    {
      "cell_type": "code",
      "source": [
        "print(\"Expected Value = \",alpha*theta,\"and Variance =\", alpha * theta * theta)"
      ],
      "metadata": {
        "colab": {
          "base_uri": "https://localhost:8080/"
        },
        "id": "oeu-H4njtapn",
        "outputId": "17ac539b-18b0-4775-c4dd-0e17067896fb"
      },
      "execution_count": 7,
      "outputs": [
        {
          "output_type": "stream",
          "name": "stdout",
          "text": [
            "Expected Value =  300 and Variance = 30000\n"
          ]
        }
      ]
    },
    {
      "cell_type": "markdown",
      "source": [
        "and while the *estimates* are close, that's what they are: *estimates* based on a finite sample!"
      ],
      "metadata": {
        "id": "F96U2mystmW1"
      }
    },
    {
      "cell_type": "markdown",
      "source": [
        "### Boostrapping"
      ],
      "metadata": {
        "id": "RYrq8sm0sSqz"
      }
    },
    {
      "cell_type": "markdown",
      "source": [
        "Boostrapping generally refers to sampling with replacement. That is, we take an original dataset and just generate a “new” version of the data by sampling from the original data. \n",
        "\n",
        "But why on earth would one want to do this? It’s simple: By sampling with replacement, we have a new data set that should have the same statistical properties as our original data set. Hence, we can obtain information on the uncertainty of quantities we estimate from the data by analyzing how they vary across our boostrap samples.\n",
        "\n",
        "Let’s consider this is the context of our previously simulated data set of Gamma random variables."
      ],
      "metadata": {
        "id": "QtAy_85atA4L"
      }
    },
    {
      "cell_type": "code",
      "source": [
        "from pickle import TRUE\n",
        "np.random.seed(123)\n",
        "mus = [0] * 500\n",
        "mus\n",
        "for i in range(500):\n",
        "  keep = np.random.choice(x, size=nsim, replace = TRUE)\n",
        "  mus[i] = keep.mean()"
      ],
      "metadata": {
        "id": "Vg7nl2fNt-3-"
      },
      "execution_count": 8,
      "outputs": []
    },
    {
      "cell_type": "markdown",
      "source": [
        "So the mus now contain estimates of the mean for each boostrap sample, and by plotting them we will obtain information of how variable our estimate is:"
      ],
      "metadata": {
        "id": "5Zhv2GPwwQDW"
      }
    },
    {
      "cell_type": "code",
      "source": [
        "plt.hist(mus)\n",
        "plt.show() "
      ],
      "metadata": {
        "colab": {
          "base_uri": "https://localhost:8080/",
          "height": 265
        },
        "id": "Xg1q57JXwGUD",
        "outputId": "f0f76ae4-25c7-49e0-b255-c0322901423c"
      },
      "execution_count": 9,
      "outputs": [
        {
          "output_type": "display_data",
          "data": {
            "text/plain": [
              "<Figure size 432x288 with 1 Axes>"
            ],
            "image/png": "[encoded data removed]"
          },
          "metadata": {
            "needs_background": "light"
          }
        }
      ]
    },
    {
      "cell_type": "markdown",
      "source": [
        "Our conventional confidence band for the mean is:"
      ],
      "metadata": {
        "id": "tueC9AZPwnMF"
      }
    },
    {
      "cell_type": "code",
      "source": [
        "print(\"confidence band: [\",x.mean()-1.96*np.sqrt(x.var()/nsim),\",\",x.mean()+1.96*np.sqrt(x.var()/nsim),\"]\")"
      ],
      "metadata": {
        "colab": {
          "base_uri": "https://localhost:8080/"
        },
        "id": "yHo7NzjXwtgb",
        "outputId": "73582aa9-55f3-49f4-a1ef-437b642feca4"
      },
      "execution_count": 10,
      "outputs": [
        {
          "output_type": "stream",
          "name": "stdout",
          "text": [
            "confidence band: [ 297.1142450330164 , 318.3860275243832 ]\n"
          ]
        }
      ]
    },
    {
      "cell_type": "markdown",
      "source": [
        "However, and this is the beauty of the bootstrap, we can also obtain confidence intervals by just considering our boostrap distribution:"
      ],
      "metadata": {
        "id": "egDRCON8xSjH"
      }
    },
    {
      "cell_type": "code",
      "source": [
        "print(\"bootstrapped confidence band: [\",np.quantile(mus, 0.025),\",\",np.quantile(mus, 0.975),\"]\")"
      ],
      "metadata": {
        "colab": {
          "base_uri": "https://localhost:8080/"
        },
        "id": "ggrJMGVWxWiT",
        "outputId": "225209f3-d055-4c69-a932-cc0a82dc17e2"
      },
      "execution_count": 11,
      "outputs": [
        {
          "output_type": "stream",
          "name": "stdout",
          "text": [
            "bootstrapped confidence band: [ 296.68557258395856 , 318.64090956637443 ]\n"
          ]
        }
      ]
    },
    {
      "cell_type": "markdown",
      "source": [
        "## Bootstrapping in Action: Estimates of Errors in Risk Measurement"
      ],
      "metadata": {
        "id": "8X-mS6L7x7Tk"
      }
    },
    {
      "cell_type": "markdown",
      "source": [
        "### A primer on Risk Measures"
      ],
      "metadata": {
        "id": "qhSXi6ixx_8z"
      }
    },
    {
      "cell_type": "markdown",
      "source": [
        "*Risk Measures* have various applications in insurance and finance. For example, capital requirements for companies or certain lines of business are set via risk measures, and insurers use risk measures for capital allocation – which is a key input in pricing and performance measurement.\n",
        "\n",
        "Generally, the risk measure $\\rho$ for a random outcome $X$ is a number that depends on the distribution of $X,$ i.e. we are evaluating $\\rho(X)$. Here, $X$ can be given via a distribution or via a dataset, so that it may be more appropriate to write $\\rho(X_1,X_2,...,X_N)$ where $X_i$ are (independent and identically-distrubuted) realizations of the risk $X.$\n",
        "\n",
        "Prominent examples of risk measures are the Value-at-Risk (VaR) at a certain confidence level $\\alpha,$ say 1%. This corresponds to the 99% quantile, i.e. the number so that we can be sure that a given loss outcome will be smaller than VaR-1% with a probability of 99%. Another example is the Tail-Value-at-Risk (TVaR) -- or also called the Conditional Tail Expectation -- that averages the losses in the tail above the VaR at a given confidence level.\n",
        "\n",
        "Determining the VaR or the TVaR is straightforward when having a sample of losses. For VaR, all we need to do is sort the sample and then take the $\\alpha \\times N$ largest value. E.g., if we have 1,000 outcomes and we are looking for VaR-1%, we simply take the 10th largest value. Similarly, for TVaR, we average over the outcomes in the tail. In the context of the example, that amounts to taking the average of the ten largest outcomes.\n",
        "\n",
        "However, due to the direct correspondence to capital, companies as well as regulators are not only interested in the actual number, but also in the associated uncertainty. For instance, if the estimate is 10 million USD, is it really something between 5 million or 15 million – or something between 9 million and 11 million? In particular, stakeholders frequently are interested in confidence bands for the risk measure.\n",
        "\n",
        "While generally a nontrivial probabilistic problem, the bootstrap allows for a relatively straightforward assessment of the estimation uncertainty – or, in other words, the calculation of a confidence interval:\n",
        "\n",
        "* Draw $B$ samples of size $N$ from the original dataset $X_1,...,X_N.$\n",
        "* For each of the $B$ new datasets, evaluate the risk measure $\\rho$.\n",
        "* Plot all $B$ estimates or determine large and small choices to assess the uncertainty. For instance, a 90% confidence region is given by the $5\\%×B$ largest value and the $95\\%×B$ largest value."
      ],
      "metadata": {
        "id": "JhiXS9JmyD1s"
      }
    },
    {
      "cell_type": "markdown",
      "source": [
        "### Application in the Context of Norwegian Fire Insurance Claims"
      ],
      "metadata": {
        "id": "IgpVmJ5lo0Fq"
      }
    },
    {
      "cell_type": "markdown",
      "source": [
        "We take the Norwegian fire loss data from the textbook on extremal modeling by Jan Beirlant, Yuri Goegebeur, Johan Segers, Jozef L. Teugels. The 2006 North-American Actuarial Journal paper by Thomas Kaiser and Vytaras Brazauskas carries out a similar exercise as the one considered here. The dataset is saved on our github repository, so you can access it with ease. \n",
        "\n",
        "Thwe dataset is tab separated and does not have columns"
      ],
      "metadata": {
        "id": "dk26VkzBo9ed"
      }
    },
    {
      "cell_type": "code",
      "source": [
        "fire_data = pd.read_csv(\"CAS_PredMod/pa_data_norwegianfire.txt\",delimiter='\\t',header=None)\n",
        "fire_data.columns = ['Loss', 'Year']\n",
        "n_fire_data = len(fire_data.index)\n",
        "fire_data.head()"
      ],
      "metadata": {
        "colab": {
          "base_uri": "https://localhost:8080/",
          "height": 206
        },
        "id": "94ybM91qo4vV",
        "outputId": "2b749588-34e8-48fe-c391-2374bc262e02"
      },
      "execution_count": 12,
      "outputs": [
        {
          "output_type": "execute_result",
          "data": {
            "text/plain": [
              "   Loss  Year\n",
              "0   520    72\n",
              "1   529    72\n",
              "2   530    72\n",
              "3   530    72\n",
              "4   544    72"
            ],
            "text/html": [
              "\n",
              "  <div id=\"df-045dba63-5b01-4a7e-a625-b3c614675616\">\n",
              "    <div class=\"colab-df-container\">\n",
              "      <div>\n",
              "<style scoped>\n",
              "    .dataframe tbody tr th:only-of-type {\n",
              "        vertical-align: middle;\n",
              "    }\n",
              "\n",
              "    .dataframe tbody tr th {\n",
              "        vertical-align: top;\n",
              "    }\n",
              "\n",
              "    .dataframe thead th {\n",
              "        text-align: right;\n",
              "    }\n",
              "</style>\n",
              "<table border=\"1\" class=\"dataframe\">\n",
              "  <thead>\n",
              "    <tr style=\"text-align: right;\">\n",
              "      <th></th>\n",
              "      <th>Loss</th>\n",
              "      <th>Year</th>\n",
              "    </tr>\n",
              "  </thead>\n",
              "  <tbody>\n",
              "    <tr>\n",
              "      <th>0</th>\n",
              "      <td>520</td>\n",
              "      <td>72</td>\n",
              "    </tr>\n",
              "    <tr>\n",
              "      <th>1</th>\n",
              "      <td>529</td>\n",
              "      <td>72</td>\n",
              "    </tr>\n",
              "    <tr>\n",
              "      <th>2</th>\n",
              "      <td>530</td>\n",
              "      <td>72</td>\n",
              "    </tr>\n",
              "    <tr>\n",
              "      <th>3</th>\n",
              "      <td>530</td>\n",
              "      <td>72</td>\n",
              "    </tr>\n",
              "    <tr>\n",
              "      <th>4</th>\n",
              "      <td>544</td>\n",
              "      <td>72</td>\n",
              "    </tr>\n",
              "  </tbody>\n",
              "</table>\n",
              "</div>\n",
              "      <button class=\"colab-df-convert\" onclick=\"convertToInteractive('df-045dba63-5b01-4a7e-a625-b3c614675616')\"\n",
              "              title=\"Convert this dataframe to an interactive table.\"\n",
              "              style=\"display:none;\">\n",
              "        \n",
              "  <svg xmlns=\"http://www.w3.org/2000/svg\" height=\"24px\"viewBox=\"0 0 24 24\"\n",
              "       width=\"24px\">\n",
              "    <path d=\"M0 0h24v24H0V0z\" fill=\"none\"/>\n",
              "    <path d=\"M18.56 5.44l.94 2.06.94-2.06 2.06-.94-2.06-.94-.94-2.06-.94 2.06-2.06.94zm-11 1L8.5 8.5l.94-2.06 2.06-.94-2.06-.94L8.5 2.5l-.94 2.06-2.06.94zm10 10l.94 2.06.94-2.06 2.06-.94-2.06-.94-.94-2.06-.94 2.06-2.06.94z\"/><path d=\"M17.41 7.96l-1.37-1.37c-.4-.4-.92-.59-1.43-.59-.52 0-1.04.2-1.43.59L10.3 9.45l-7.72 7.72c-.78.78-.78 2.05 0 2.83L4 21.41c.39.39.9.59 1.41.59.51 0 1.02-.2 1.41-.59l7.78-7.78 2.81-2.81c.8-.78.8-2.07 0-2.86zM5.41 20L4 18.59l7.72-7.72 1.47 1.35L5.41 20z\"/>\n",
              "  </svg>\n",
              "      </button>\n",
              "      \n",
              "  <style>\n",
              "    .colab-df-container {\n",
              "      display:flex;\n",
              "      flex-wrap:wrap;\n",
              "      gap: 12px;\n",
              "    }\n",
              "\n",
              "    .colab-df-convert {\n",
              "      background-color: #E8F0FE;\n",
              "      border: none;\n",
              "      border-radius: 50%;\n",
              "      cursor: pointer;\n",
              "      display: none;\n",
              "      fill: #1967D2;\n",
              "      height: 32px;\n",
              "      padding: 0 0 0 0;\n",
              "      width: 32px;\n",
              "    }\n",
              "\n",
              "    .colab-df-convert:hover {\n",
              "      background-color: #E2EBFA;\n",
              "      box-shadow: 0px 1px 2px rgba(60, 64, 67, 0.3), 0px 1px 3px 1px rgba(60, 64, 67, 0.15);\n",
              "      fill: #174EA6;\n",
              "    }\n",
              "\n",
              "    [theme=dark] .colab-df-convert {\n",
              "      background-color: #3B4455;\n",
              "      fill: #D2E3FC;\n",
              "    }\n",
              "\n",
              "    [theme=dark] .colab-df-convert:hover {\n",
              "      background-color: #434B5C;\n",
              "      box-shadow: 0px 1px 3px 1px rgba(0, 0, 0, 0.15);\n",
              "      filter: drop-shadow(0px 1px 2px rgba(0, 0, 0, 0.3));\n",
              "      fill: #FFFFFF;\n",
              "    }\n",
              "  </style>\n",
              "\n",
              "      <script>\n",
              "        const buttonEl =\n",
              "          document.querySelector('#df-045dba63-5b01-4a7e-a625-b3c614675616 button.colab-df-convert');\n",
              "        buttonEl.style.display =\n",
              "          google.colab.kernel.accessAllowed ? 'block' : 'none';\n",
              "\n",
              "        async function convertToInteractive(key) {\n",
              "          const element = document.querySelector('#df-045dba63-5b01-4a7e-a625-b3c614675616');\n",
              "          const dataTable =\n",
              "            await google.colab.kernel.invokeFunction('convertToInteractive',\n",
              "                                                     [key], {});\n",
              "          if (!dataTable) return;\n",
              "\n",
              "          const docLinkHtml = 'Like what you see? Visit the ' +\n",
              "            '<a target=\"_blank\" href=https://colab.research.google.com/notebooks/data_table.ipynb>data table notebook</a>'\n",
              "            + ' to learn more about interactive tables.';\n",
              "          element.innerHTML = '';\n",
              "          dataTable['output_type'] = 'display_data';\n",
              "          await google.colab.output.renderOutput(dataTable, element);\n",
              "          const docLink = document.createElement('div');\n",
              "          docLink.innerHTML = docLinkHtml;\n",
              "          element.appendChild(docLink);\n",
              "        }\n",
              "      </script>\n",
              "    </div>\n",
              "  </div>\n",
              "  "
            ]
          },
          "metadata": {},
          "execution_count": 12
        }
      ]
    },
    {
      "cell_type": "markdown",
      "source": [
        "As described, calculating risk measures is relatively straightforward when sorting the losses:"
      ],
      "metadata": {
        "id": "H1bNefFGqzGp"
      }
    },
    {
      "cell_type": "code",
      "source": [
        "fire_data_sort = fire_data.sort_values(by=['Loss'])\n",
        "fire_data_sort = fire_data_sort.reset_index(drop=True)\n",
        "Losses = fire_data_sort.Loss\n",
        "VaR1P = Losses[np.floor(.99 * n_fire_data)-1]\n",
        "VaR1P"
      ],
      "metadata": {
        "colab": {
          "base_uri": "https://localhost:8080/"
        },
        "id": "X1-ccoE-qxIV",
        "outputId": "abe6d426-97fd-428e-e63f-0846d64feb31"
      },
      "execution_count": 13,
      "outputs": [
        {
          "output_type": "execute_result",
          "data": {
            "text/plain": [
              "19793"
            ]
          },
          "metadata": {},
          "execution_count": 13
        }
      ]
    },
    {
      "cell_type": "code",
      "source": [
        "TVaR1P = Losses[range(math.floor(.99 * n_fire_data)-1,n_fire_data)].mean() #the np floor function does not return an integer, so using the math version\n",
        "TVaR1P"
      ],
      "metadata": {
        "colab": {
          "base_uri": "https://localhost:8080/"
        },
        "id": "hmum9GeBv7un",
        "outputId": "b6861c58-e664-4d36-a543-0ed4dd42b8ac"
      },
      "execution_count": 14,
      "outputs": [
        {
          "output_type": "execute_result",
          "data": {
            "text/plain": [
              "50954.63440860215"
            ]
          },
          "metadata": {},
          "execution_count": 14
        }
      ]
    },
    {
      "cell_type": "markdown",
      "source": [
        "To assess the estimation error, we again rely on bootstrapping. We proceed as before:"
      ],
      "metadata": {
        "id": "2m4mv0oextDM"
      }
    },
    {
      "cell_type": "code",
      "source": [
        "np.random.seed(123)\n",
        "VaRs = [0] * 500\n",
        "TVaR1P = [0] * 500\n",
        "mus\n",
        "for i in range(500):\n",
        "  keep = np.random.choice(Losses, size=n_fire_data, replace = TRUE)\n",
        "  VaRs[i] = np.quantile(keep,0.99)"
      ],
      "metadata": {
        "id": "DqRf2lSS0qGy"
      },
      "execution_count": 15,
      "outputs": []
    },
    {
      "cell_type": "markdown",
      "source": [
        "And we can illustrate the uncertainty in our estimate via looking at tge resulting distribution of our estimates."
      ],
      "metadata": {
        "id": "ecRhoBGM2ubj"
      }
    },
    {
      "cell_type": "code",
      "source": [
        "plt.hist(VaRs)\n",
        "plt.show() "
      ],
      "metadata": {
        "colab": {
          "base_uri": "https://localhost:8080/",
          "height": 265
        },
        "id": "hOJTvRvW2fK4",
        "outputId": "393efd07-ba58-405e-bea8-d0c7d81aded0"
      },
      "execution_count": 16,
      "outputs": [
        {
          "output_type": "display_data",
          "data": {
            "text/plain": [
              "<Figure size 432x288 with 1 Axes>"
            ],
            "image/png": "[encoded data removed]"
          },
          "metadata": {
            "needs_background": "light"
          }
        }
      ]
    },
    {
      "cell_type": "markdown",
      "source": [
        "With the following confidence band:"
      ],
      "metadata": {
        "id": "4MVlPdvr22FL"
      }
    },
    {
      "cell_type": "code",
      "source": [
        "print(\"bootstrapped confidence band: [\",np.quantile(VaRs, 0.025),\",\",np.quantile(VaRs, 0.975),\"]\")"
      ],
      "metadata": {
        "colab": {
          "base_uri": "https://localhost:8080/"
        },
        "id": "bIrlJSo22BDS",
        "outputId": "c30bf69f-1989-4301-8909-b46635eeef49"
      },
      "execution_count": 17,
      "outputs": [
        {
          "output_type": "stream",
          "name": "stdout",
          "text": [
            "bootstrapped confidence band: [ 16945.745000000024 , 24241.55500000011 ]\n"
          ]
        }
      ]
    },
    {
      "cell_type": "markdown",
      "source": [
        "There is also provided functionality within Python. E.g., we can use the boostrap function within the scipy stats library to obtain a confidence interval for the median:"
      ],
      "metadata": {
        "id": "tZJt13nz12ou"
      }
    },
    {
      "cell_type": "code",
      "source": [
        "Losses_list = (Losses,)\n",
        "bootstrap_ci = st.bootstrap(Losses_list, np.median, confidence_level=0.95,random_state=1, method='percentile')\n",
        "bootstrap_ci"
      ],
      "metadata": {
        "colab": {
          "base_uri": "https://localhost:8080/"
        },
        "id": "I0rhHglkulcn",
        "outputId": "ab27e6ba-6186-4988-d0d3-b0f2b50455f0"
      },
      "execution_count": 19,
      "outputs": [
        {
          "output_type": "execute_result",
          "data": {
            "text/plain": [
              "BootstrapResult(confidence_interval=ConfidenceInterval(low=1003.0, high=1045.0), standard_error=9.909393797892523)"
            ]
          },
          "metadata": {},
          "execution_count": 19
        }
      ]
    },
    {
      "cell_type": "markdown",
      "source": [
        "# Regression Refresher: Galton Data"
      ],
      "metadata": {
        "id": "uwifWl1o3fvO"
      }
    },
    {
      "cell_type": "markdown",
      "source": [
        "The most basic predictive modeling technique is (linear) regression. To provide a refresher, let’s look at the famous Galton data example which provides data on the heights of parents and their children (the data needs to be in your working directory):"
      ],
      "metadata": {
        "id": "nCA0tOEj3lJb"
      }
    },
    {
      "cell_type": "code",
      "source": [
        "galton_data = pd.read_csv(\"CAS_PredMod/pa_data_galtonData.txt\")\n",
        "galton_data.head()"
      ],
      "metadata": {
        "colab": {
          "base_uri": "https://localhost:8080/",
          "height": 206
        },
        "id": "JczWmoQ03mBK",
        "outputId": "8387070c-354c-4750-ec23-4fad90641c07"
      },
      "execution_count": 20,
      "outputs": [
        {
          "output_type": "execute_result",
          "data": {
            "text/plain": [
              "       child     parent\n",
              "0  66.780879  66.006075\n",
              "1  71.229985  69.589957\n",
              "2  70.098295  69.603125\n",
              "3  68.438181  69.270306\n",
              "4  64.071776  68.092429"
            ],
            "text/html": [
              "\n",
              "  <div id=\"df-89cb7b8f-6417-493b-9cf2-e095db90e54d\">\n",
              "    <div class=\"colab-df-container\">\n",
              "      <div>\n",
              "<style scoped>\n",
              "    .dataframe tbody tr th:only-of-type {\n",
              "        vertical-align: middle;\n",
              "    }\n",
              "\n",
              "    .dataframe tbody tr th {\n",
              "        vertical-align: top;\n",
              "    }\n",
              "\n",
              "    .dataframe thead th {\n",
              "        text-align: right;\n",
              "    }\n",
              "</style>\n",
              "<table border=\"1\" class=\"dataframe\">\n",
              "  <thead>\n",
              "    <tr style=\"text-align: right;\">\n",
              "      <th></th>\n",
              "      <th>child</th>\n",
              "      <th>parent</th>\n",
              "    </tr>\n",
              "  </thead>\n",
              "  <tbody>\n",
              "    <tr>\n",
              "      <th>0</th>\n",
              "      <td>66.780879</td>\n",
              "      <td>66.006075</td>\n",
              "    </tr>\n",
              "    <tr>\n",
              "      <th>1</th>\n",
              "      <td>71.229985</td>\n",
              "      <td>69.589957</td>\n",
              "    </tr>\n",
              "    <tr>\n",
              "      <th>2</th>\n",
              "      <td>70.098295</td>\n",
              "      <td>69.603125</td>\n",
              "    </tr>\n",
              "    <tr>\n",
              "      <th>3</th>\n",
              "      <td>68.438181</td>\n",
              "      <td>69.270306</td>\n",
              "    </tr>\n",
              "    <tr>\n",
              "      <th>4</th>\n",
              "      <td>64.071776</td>\n",
              "      <td>68.092429</td>\n",
              "    </tr>\n",
              "  </tbody>\n",
              "</table>\n",
              "</div>\n",
              "      <button class=\"colab-df-convert\" onclick=\"convertToInteractive('df-89cb7b8f-6417-493b-9cf2-e095db90e54d')\"\n",
              "              title=\"Convert this dataframe to an interactive table.\"\n",
              "              style=\"display:none;\">\n",
              "        \n",
              "  <svg xmlns=\"http://www.w3.org/2000/svg\" height=\"24px\"viewBox=\"0 0 24 24\"\n",
              "       width=\"24px\">\n",
              "    <path d=\"M0 0h24v24H0V0z\" fill=\"none\"/>\n",
              "    <path d=\"M18.56 5.44l.94 2.06.94-2.06 2.06-.94-2.06-.94-.94-2.06-.94 2.06-2.06.94zm-11 1L8.5 8.5l.94-2.06 2.06-.94-2.06-.94L8.5 2.5l-.94 2.06-2.06.94zm10 10l.94 2.06.94-2.06 2.06-.94-2.06-.94-.94-2.06-.94 2.06-2.06.94z\"/><path d=\"M17.41 7.96l-1.37-1.37c-.4-.4-.92-.59-1.43-.59-.52 0-1.04.2-1.43.59L10.3 9.45l-7.72 7.72c-.78.78-.78 2.05 0 2.83L4 21.41c.39.39.9.59 1.41.59.51 0 1.02-.2 1.41-.59l7.78-7.78 2.81-2.81c.8-.78.8-2.07 0-2.86zM5.41 20L4 18.59l7.72-7.72 1.47 1.35L5.41 20z\"/>\n",
              "  </svg>\n",
              "      </button>\n",
              "      \n",
              "  <style>\n",
              "    .colab-df-container {\n",
              "      display:flex;\n",
              "      flex-wrap:wrap;\n",
              "      gap: 12px;\n",
              "    }\n",
              "\n",
              "    .colab-df-convert {\n",
              "      background-color: #E8F0FE;\n",
              "      border: none;\n",
              "      border-radius: 50%;\n",
              "      cursor: pointer;\n",
              "      display: none;\n",
              "      fill: #1967D2;\n",
              "      height: 32px;\n",
              "      padding: 0 0 0 0;\n",
              "      width: 32px;\n",
              "    }\n",
              "\n",
              "    .colab-df-convert:hover {\n",
              "      background-color: #E2EBFA;\n",
              "      box-shadow: 0px 1px 2px rgba(60, 64, 67, 0.3), 0px 1px 3px 1px rgba(60, 64, 67, 0.15);\n",
              "      fill: #174EA6;\n",
              "    }\n",
              "\n",
              "    [theme=dark] .colab-df-convert {\n",
              "      background-color: #3B4455;\n",
              "      fill: #D2E3FC;\n",
              "    }\n",
              "\n",
              "    [theme=dark] .colab-df-convert:hover {\n",
              "      background-color: #434B5C;\n",
              "      box-shadow: 0px 1px 3px 1px rgba(0, 0, 0, 0.15);\n",
              "      filter: drop-shadow(0px 1px 2px rgba(0, 0, 0, 0.3));\n",
              "      fill: #FFFFFF;\n",
              "    }\n",
              "  </style>\n",
              "\n",
              "      <script>\n",
              "        const buttonEl =\n",
              "          document.querySelector('#df-89cb7b8f-6417-493b-9cf2-e095db90e54d button.colab-df-convert');\n",
              "        buttonEl.style.display =\n",
              "          google.colab.kernel.accessAllowed ? 'block' : 'none';\n",
              "\n",
              "        async function convertToInteractive(key) {\n",
              "          const element = document.querySelector('#df-89cb7b8f-6417-493b-9cf2-e095db90e54d');\n",
              "          const dataTable =\n",
              "            await google.colab.kernel.invokeFunction('convertToInteractive',\n",
              "                                                     [key], {});\n",
              "          if (!dataTable) return;\n",
              "\n",
              "          const docLinkHtml = 'Like what you see? Visit the ' +\n",
              "            '<a target=\"_blank\" href=https://colab.research.google.com/notebooks/data_table.ipynb>data table notebook</a>'\n",
              "            + ' to learn more about interactive tables.';\n",
              "          element.innerHTML = '';\n",
              "          dataTable['output_type'] = 'display_data';\n",
              "          await google.colab.output.renderOutput(dataTable, element);\n",
              "          const docLink = document.createElement('div');\n",
              "          docLink.innerHTML = docLinkHtml;\n",
              "          element.appendChild(docLink);\n",
              "        }\n",
              "      </script>\n",
              "    </div>\n",
              "  </div>\n",
              "  "
            ]
          },
          "metadata": {},
          "execution_count": 20
        }
      ]
    },
    {
      "cell_type": "code",
      "metadata": {
        "colab": {
          "base_uri": "https://localhost:8080/",
          "height": 300
        },
        "id": "YsPzBXbOrNSq",
        "outputId": "4c781da0-8994-47ce-d299-74e1d33e4236"
      },
      "source": [
        "galton_data.describe()"
      ],
      "execution_count": 21,
      "outputs": [
        {
          "output_type": "execute_result",
          "data": {
            "text/plain": [
              "            child      parent\n",
              "count  928.000000  928.000000\n",
              "mean    68.086828   68.310356\n",
              "std      2.527919    1.817696\n",
              "min     61.260745   63.581359\n",
              "25%     66.396484   67.241626\n",
              "50%     68.170713   68.346832\n",
              "75%     69.735016   69.488074\n",
              "max     74.131369   73.375229"
            ],
            "text/html": [
              "\n",
              "  <div id=\"df-f4940636-d461-438c-8abf-51d0e70e643a\">\n",
              "    <div class=\"colab-df-container\">\n",
              "      <div>\n",
              "<style scoped>\n",
              "    .dataframe tbody tr th:only-of-type {\n",
              "        vertical-align: middle;\n",
              "    }\n",
              "\n",
              "    .dataframe tbody tr th {\n",
              "        vertical-align: top;\n",
              "    }\n",
              "\n",
              "    .dataframe thead th {\n",
              "        text-align: right;\n",
              "    }\n",
              "</style>\n",
              "<table border=\"1\" class=\"dataframe\">\n",
              "  <thead>\n",
              "    <tr style=\"text-align: right;\">\n",
              "      <th></th>\n",
              "      <th>child</th>\n",
              "      <th>parent</th>\n",
              "    </tr>\n",
              "  </thead>\n",
              "  <tbody>\n",
              "    <tr>\n",
              "      <th>count</th>\n",
              "      <td>928.000000</td>\n",
              "      <td>928.000000</td>\n",
              "    </tr>\n",
              "    <tr>\n",
              "      <th>mean</th>\n",
              "      <td>68.086828</td>\n",
              "      <td>68.310356</td>\n",
              "    </tr>\n",
              "    <tr>\n",
              "      <th>std</th>\n",
              "      <td>2.527919</td>\n",
              "      <td>1.817696</td>\n",
              "    </tr>\n",
              "    <tr>\n",
              "      <th>min</th>\n",
              "      <td>61.260745</td>\n",
              "      <td>63.581359</td>\n",
              "    </tr>\n",
              "    <tr>\n",
              "      <th>25%</th>\n",
              "      <td>66.396484</td>\n",
              "      <td>67.241626</td>\n",
              "    </tr>\n",
              "    <tr>\n",
              "      <th>50%</th>\n",
              "      <td>68.170713</td>\n",
              "      <td>68.346832</td>\n",
              "    </tr>\n",
              "    <tr>\n",
              "      <th>75%</th>\n",
              "      <td>69.735016</td>\n",
              "      <td>69.488074</td>\n",
              "    </tr>\n",
              "    <tr>\n",
              "      <th>max</th>\n",
              "      <td>74.131369</td>\n",
              "      <td>73.375229</td>\n",
              "    </tr>\n",
              "  </tbody>\n",
              "</table>\n",
              "</div>\n",
              "      <button class=\"colab-df-convert\" onclick=\"convertToInteractive('df-f4940636-d461-438c-8abf-51d0e70e643a')\"\n",
              "              title=\"Convert this dataframe to an interactive table.\"\n",
              "              style=\"display:none;\">\n",
              "        \n",
              "  <svg xmlns=\"http://www.w3.org/2000/svg\" height=\"24px\"viewBox=\"0 0 24 24\"\n",
              "       width=\"24px\">\n",
              "    <path d=\"M0 0h24v24H0V0z\" fill=\"none\"/>\n",
              "    <path d=\"M18.56 5.44l.94 2.06.94-2.06 2.06-.94-2.06-.94-.94-2.06-.94 2.06-2.06.94zm-11 1L8.5 8.5l.94-2.06 2.06-.94-2.06-.94L8.5 2.5l-.94 2.06-2.06.94zm10 10l.94 2.06.94-2.06 2.06-.94-2.06-.94-.94-2.06-.94 2.06-2.06.94z\"/><path d=\"M17.41 7.96l-1.37-1.37c-.4-.4-.92-.59-1.43-.59-.52 0-1.04.2-1.43.59L10.3 9.45l-7.72 7.72c-.78.78-.78 2.05 0 2.83L4 21.41c.39.39.9.59 1.41.59.51 0 1.02-.2 1.41-.59l7.78-7.78 2.81-2.81c.8-.78.8-2.07 0-2.86zM5.41 20L4 18.59l7.72-7.72 1.47 1.35L5.41 20z\"/>\n",
              "  </svg>\n",
              "      </button>\n",
              "      \n",
              "  <style>\n",
              "    .colab-df-container {\n",
              "      display:flex;\n",
              "      flex-wrap:wrap;\n",
              "      gap: 12px;\n",
              "    }\n",
              "\n",
              "    .colab-df-convert {\n",
              "      background-color: #E8F0FE;\n",
              "      border: none;\n",
              "      border-radius: 50%;\n",
              "      cursor: pointer;\n",
              "      display: none;\n",
              "      fill: #1967D2;\n",
              "      height: 32px;\n",
              "      padding: 0 0 0 0;\n",
              "      width: 32px;\n",
              "    }\n",
              "\n",
              "    .colab-df-convert:hover {\n",
              "      background-color: #E2EBFA;\n",
              "      box-shadow: 0px 1px 2px rgba(60, 64, 67, 0.3), 0px 1px 3px 1px rgba(60, 64, 67, 0.15);\n",
              "      fill: #174EA6;\n",
              "    }\n",
              "\n",
              "    [theme=dark] .colab-df-convert {\n",
              "      background-color: #3B4455;\n",
              "      fill: #D2E3FC;\n",
              "    }\n",
              "\n",
              "    [theme=dark] .colab-df-convert:hover {\n",
              "      background-color: #434B5C;\n",
              "      box-shadow: 0px 1px 3px 1px rgba(0, 0, 0, 0.15);\n",
              "      filter: drop-shadow(0px 1px 2px rgba(0, 0, 0, 0.3));\n",
              "      fill: #FFFFFF;\n",
              "    }\n",
              "  </style>\n",
              "\n",
              "      <script>\n",
              "        const buttonEl =\n",
              "          document.querySelector('#df-f4940636-d461-438c-8abf-51d0e70e643a button.colab-df-convert');\n",
              "        buttonEl.style.display =\n",
              "          google.colab.kernel.accessAllowed ? 'block' : 'none';\n",
              "\n",
              "        async function convertToInteractive(key) {\n",
              "          const element = document.querySelector('#df-f4940636-d461-438c-8abf-51d0e70e643a');\n",
              "          const dataTable =\n",
              "            await google.colab.kernel.invokeFunction('convertToInteractive',\n",
              "                                                     [key], {});\n",
              "          if (!dataTable) return;\n",
              "\n",
              "          const docLinkHtml = 'Like what you see? Visit the ' +\n",
              "            '<a target=\"_blank\" href=https://colab.research.google.com/notebooks/data_table.ipynb>data table notebook</a>'\n",
              "            + ' to learn more about interactive tables.';\n",
              "          element.innerHTML = '';\n",
              "          dataTable['output_type'] = 'display_data';\n",
              "          await google.colab.output.renderOutput(dataTable, element);\n",
              "          const docLink = document.createElement('div');\n",
              "          docLink.innerHTML = docLinkHtml;\n",
              "          element.appendChild(docLink);\n",
              "        }\n",
              "      </script>\n",
              "    </div>\n",
              "  </div>\n",
              "  "
            ]
          },
          "metadata": {},
          "execution_count": 21
        }
      ]
    },
    {
      "cell_type": "markdown",
      "source": [
        "## Review of Linear Regression\n",
        "\n",
        "In a conventional linear regression problem with independent variables $x_i$ and dependent variables $y_i$, we assume a linear relationship:\n",
        "$$\n",
        "y_i = \\beta_0+\\sum_{j=1}^p \\beta_j\\,x_{i,j} + \\varepsilon_i.\n",
        "$$\n",
        "\n",
        "In order to make a *prediction* for a data point $x_0$ outside of our sample -- which is the purpose of the entire enterprise -- we need to determine an *estimate* for our regression parameter $\\beta$, which is generally labeled as $\\hat{\\beta}$ .  We will use our data set -- the so-called *training data* -- for deriving this estimate.  Once we have an estimate $\\hat{\\beta}$, we obtain a prediction for our (unknown) outcome for the *features* $x_0$ via:\n",
        "$$\n",
        "y_0 = \\hat{\\beta}_0 + \\sum_{j=1}^p \\hat{\\beta}_j\\,x_{0,j}.\n",
        "$$\n",
        "\n",
        "\n",
        "OLS regression determines the estimate $\\hat{\\beta}$ that best approximates the training data in the *least-squares sense*:\n",
        "$$\n",
        "\\hat{\\beta}^{\\text{OLS}} = \\text{argmin}_{\\beta}\\left\\{\\sum_{i=1}^n \\left(y_i - \\left(\\beta_0 + \\sum_{j=1}^p \\beta_j\\,x_{i,j}\\right)\\right)^2 \\right\\}.\n",
        "$$\n",
        "The OLS estimate has some nice properties, e.g.:\n",
        "\n",
        "* *Computational*: It is possible to solve for the OLS estimate in closed form.  Indeed, we obtain: \n",
        "$$\n",
        "\\hat{\\beta}^{\\text{OLS}} = (X'X)^{-1}X'y,\n",
        "$$\n",
        "where $X$ is the so-called *design matrix*, whose row $i$ is $x_i'$ and contains the features for the $i$th observation.\n",
        "\n",
        "* *Statistical*: Due to the estimator's form, it is possible to derive the (approximate/limiting) distribution of the estimate via the central limit theorem.  In particular, this allows to draw inference whether the influence is significantly different from zero (illustrated via \"stars\", see below)."
      ],
      "metadata": {
        "id": "JxiukKM65L8f"
      }
    },
    {
      "cell_type": "markdown",
      "source": [
        "There are many packages for running regressions in Python. Here we rely on a package that allows for forumulas and thus has a similar feel as R regressions. We will get to know others soon:"
      ],
      "metadata": {
        "id": "_SbQoACX4IkW"
      }
    },
    {
      "cell_type": "code",
      "metadata": {
        "id": "bKRs0SterNSq",
        "colab": {
          "base_uri": "https://localhost:8080/"
        },
        "outputId": "059d8f17-ab4c-4609-8754-16782cffbcfe"
      },
      "source": [
        "from statsmodels.formula.api import ols\n",
        "first_reg = ols(formula=\"child ~ parent\", data=galton_data).fit()\n",
        "print(first_reg.summary())"
      ],
      "execution_count": 22,
      "outputs": [
        {
          "output_type": "stream",
          "name": "stdout",
          "text": [
            "                            OLS Regression Results                            \n",
            "==============================================================================\n",
            "Dep. Variable:                  child   R-squared:                       0.208\n",
            "Model:                            OLS   Adj. R-squared:                  0.207\n",
            "Method:                 Least Squares   F-statistic:                     243.2\n",
            "Date:                Tue, 06 Sep 2022   Prob (F-statistic):           7.32e-49\n",
            "Time:                        03:55:31   Log-Likelihood:                -2068.7\n",
            "No. Observations:                 928   AIC:                             4141.\n",
            "Df Residuals:                     926   BIC:                             4151.\n",
            "Df Model:                           1                                         \n",
            "Covariance Type:            nonrobust                                         \n",
            "==============================================================================\n",
            "                 coef    std err          t      P>|t|      [0.025      0.975]\n",
            "------------------------------------------------------------------------------\n",
            "Intercept     24.7584      2.779      8.908      0.000      19.304      30.213\n",
            "parent         0.6343      0.041     15.595      0.000       0.554       0.714\n",
            "==============================================================================\n",
            "Omnibus:                       11.775   Durbin-Watson:                   2.016\n",
            "Prob(Omnibus):                  0.003   Jarque-Bera (JB):               11.657\n",
            "Skew:                          -0.249   Prob(JB):                      0.00294\n",
            "Kurtosis:                       2.770   Cond. No.                     2.57e+03\n",
            "==============================================================================\n",
            "\n",
            "Notes:\n",
            "[1] Standard Errors assume that the covariance matrix of the errors is correctly specified.\n",
            "[2] The condition number is large, 2.57e+03. This might indicate that there are\n",
            "strong multicollinearity or other numerical problems.\n"
          ]
        }
      ]
    },
    {
      "cell_type": "markdown",
      "source": [
        "We can also get confidence intervals for the regression coefficients:"
      ],
      "metadata": {
        "id": "DGI-PWKw5tqj"
      }
    },
    {
      "cell_type": "code",
      "metadata": {
        "id": "6RIAeFgprNSr",
        "colab": {
          "base_uri": "https://localhost:8080/",
          "height": 112
        },
        "outputId": "4e8f90cc-5651-4aa7-9e0a-2e6dbafdf25f"
      },
      "source": [
        "first_reg.conf_int(alpha=0.05, cols=None)"
      ],
      "execution_count": 23,
      "outputs": [
        {
          "output_type": "execute_result",
          "data": {
            "text/plain": [
              "                   0          1\n",
              "Intercept  19.303953  30.212873\n",
              "parent      0.554468   0.714108"
            ],
            "text/html": [
              "\n",
              "  <div id=\"df-e556264e-de29-4400-8852-10e9c029e179\">\n",
              "    <div class=\"colab-df-container\">\n",
              "      <div>\n",
              "<style scoped>\n",
              "    .dataframe tbody tr th:only-of-type {\n",
              "        vertical-align: middle;\n",
              "    }\n",
              "\n",
              "    .dataframe tbody tr th {\n",
              "        vertical-align: top;\n",
              "    }\n",
              "\n",
              "    .dataframe thead th {\n",
              "        text-align: right;\n",
              "    }\n",
              "</style>\n",
              "<table border=\"1\" class=\"dataframe\">\n",
              "  <thead>\n",
              "    <tr style=\"text-align: right;\">\n",
              "      <th></th>\n",
              "      <th>0</th>\n",
              "      <th>1</th>\n",
              "    </tr>\n",
              "  </thead>\n",
              "  <tbody>\n",
              "    <tr>\n",
              "      <th>Intercept</th>\n",
              "      <td>19.303953</td>\n",
              "      <td>30.212873</td>\n",
              "    </tr>\n",
              "    <tr>\n",
              "      <th>parent</th>\n",
              "      <td>0.554468</td>\n",
              "      <td>0.714108</td>\n",
              "    </tr>\n",
              "  </tbody>\n",
              "</table>\n",
              "</div>\n",
              "      <button class=\"colab-df-convert\" onclick=\"convertToInteractive('df-e556264e-de29-4400-8852-10e9c029e179')\"\n",
              "              title=\"Convert this dataframe to an interactive table.\"\n",
              "              style=\"display:none;\">\n",
              "        \n",
              "  <svg xmlns=\"http://www.w3.org/2000/svg\" height=\"24px\"viewBox=\"0 0 24 24\"\n",
              "       width=\"24px\">\n",
              "    <path d=\"M0 0h24v24H0V0z\" fill=\"none\"/>\n",
              "    <path d=\"M18.56 5.44l.94 2.06.94-2.06 2.06-.94-2.06-.94-.94-2.06-.94 2.06-2.06.94zm-11 1L8.5 8.5l.94-2.06 2.06-.94-2.06-.94L8.5 2.5l-.94 2.06-2.06.94zm10 10l.94 2.06.94-2.06 2.06-.94-2.06-.94-.94-2.06-.94 2.06-2.06.94z\"/><path d=\"M17.41 7.96l-1.37-1.37c-.4-.4-.92-.59-1.43-.59-.52 0-1.04.2-1.43.59L10.3 9.45l-7.72 7.72c-.78.78-.78 2.05 0 2.83L4 21.41c.39.39.9.59 1.41.59.51 0 1.02-.2 1.41-.59l7.78-7.78 2.81-2.81c.8-.78.8-2.07 0-2.86zM5.41 20L4 18.59l7.72-7.72 1.47 1.35L5.41 20z\"/>\n",
              "  </svg>\n",
              "      </button>\n",
              "      \n",
              "  <style>\n",
              "    .colab-df-container {\n",
              "      display:flex;\n",
              "      flex-wrap:wrap;\n",
              "      gap: 12px;\n",
              "    }\n",
              "\n",
              "    .colab-df-convert {\n",
              "      background-color: #E8F0FE;\n",
              "      border: none;\n",
              "      border-radius: 50%;\n",
              "      cursor: pointer;\n",
              "      display: none;\n",
              "      fill: #1967D2;\n",
              "      height: 32px;\n",
              "      padding: 0 0 0 0;\n",
              "      width: 32px;\n",
              "    }\n",
              "\n",
              "    .colab-df-convert:hover {\n",
              "      background-color: #E2EBFA;\n",
              "      box-shadow: 0px 1px 2px rgba(60, 64, 67, 0.3), 0px 1px 3px 1px rgba(60, 64, 67, 0.15);\n",
              "      fill: #174EA6;\n",
              "    }\n",
              "\n",
              "    [theme=dark] .colab-df-convert {\n",
              "      background-color: #3B4455;\n",
              "      fill: #D2E3FC;\n",
              "    }\n",
              "\n",
              "    [theme=dark] .colab-df-convert:hover {\n",
              "      background-color: #434B5C;\n",
              "      box-shadow: 0px 1px 3px 1px rgba(0, 0, 0, 0.15);\n",
              "      filter: drop-shadow(0px 1px 2px rgba(0, 0, 0, 0.3));\n",
              "      fill: #FFFFFF;\n",
              "    }\n",
              "  </style>\n",
              "\n",
              "      <script>\n",
              "        const buttonEl =\n",
              "          document.querySelector('#df-e556264e-de29-4400-8852-10e9c029e179 button.colab-df-convert');\n",
              "        buttonEl.style.display =\n",
              "          google.colab.kernel.accessAllowed ? 'block' : 'none';\n",
              "\n",
              "        async function convertToInteractive(key) {\n",
              "          const element = document.querySelector('#df-e556264e-de29-4400-8852-10e9c029e179');\n",
              "          const dataTable =\n",
              "            await google.colab.kernel.invokeFunction('convertToInteractive',\n",
              "                                                     [key], {});\n",
              "          if (!dataTable) return;\n",
              "\n",
              "          const docLinkHtml = 'Like what you see? Visit the ' +\n",
              "            '<a target=\"_blank\" href=https://colab.research.google.com/notebooks/data_table.ipynb>data table notebook</a>'\n",
              "            + ' to learn more about interactive tables.';\n",
              "          element.innerHTML = '';\n",
              "          dataTable['output_type'] = 'display_data';\n",
              "          await google.colab.output.renderOutput(dataTable, element);\n",
              "          const docLink = document.createElement('div');\n",
              "          docLink.innerHTML = docLinkHtml;\n",
              "          element.appendChild(docLink);\n",
              "        }\n",
              "      </script>\n",
              "    </div>\n",
              "  </div>\n",
              "  "
            ]
          },
          "metadata": {},
          "execution_count": 23
        }
      ]
    },
    {
      "cell_type": "markdown",
      "source": [
        "Let's look at the residulas to check whether they are exhibiting an adequate form (ideally, theyb should be close to a normal distribution)."
      ],
      "metadata": {
        "id": "jHUpOVRc6rp9"
      }
    },
    {
      "cell_type": "code",
      "source": [
        "y = galton_data['child']\n",
        "y_pred = first_reg.predict()\n",
        "eps = y - y_pred\n",
        "eps.plot(kind='hist')"
      ],
      "metadata": {
        "colab": {
          "base_uri": "https://localhost:8080/",
          "height": 283
        },
        "id": "oi_LEwvL5_41",
        "outputId": "706a6c06-e4d5-46f2-a860-ac598d7d66e5"
      },
      "execution_count": 24,
      "outputs": [
        {
          "output_type": "execute_result",
          "data": {
            "text/plain": [
              "<matplotlib.axes._subplots.AxesSubplot at 0x7fdadf875d10>"
            ]
          },
          "metadata": {},
          "execution_count": 24
        },
        {
          "output_type": "display_data",
          "data": {
            "text/plain": [
              "<Figure size 432x288 with 1 Axes>"
            ],
            "image/png": "[encoded data removed]"
          },
          "metadata": {
            "needs_background": "light"
          }
        }
      ]
    },
    {
      "cell_type": "markdown",
      "source": [
        "We can check more formally via a q-q plot:"
      ],
      "metadata": {
        "id": "ZNGuOCQK6-Vj"
      }
    },
    {
      "cell_type": "code",
      "metadata": {
        "id": "TFZGm4cErNSw",
        "colab": {
          "base_uri": "https://localhost:8080/",
          "height": 279
        },
        "outputId": "dcd4f710-5e43-4574-b01a-3169622c95b3"
      },
      "source": [
        "fig = sm.qqplot(eps, line=\"s\")\n",
        "plt.show()"
      ],
      "execution_count": 25,
      "outputs": [
        {
          "output_type": "display_data",
          "data": {
            "text/plain": [
              "<Figure size 432x288 with 1 Axes>"
            ],
            "image/png": "[encoded data removed]"
          },
          "metadata": {
            "needs_background": "light"
          }
        }
      ]
    }
  ]
}