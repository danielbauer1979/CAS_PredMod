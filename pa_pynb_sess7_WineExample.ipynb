{
  "nbformat": 4,
  "nbformat_minor": 0,
  "metadata": {
    "kernelspec": {
      "display_name": "Python 3",
      "language": "python",
      "name": "python3"
    },
    "language_info": {
      "codemirror_mode": {
        "name": "ipython",
        "version": 3
      },
      "file_extension": ".py",
      "mimetype": "text/x-python",
      "name": "python",
      "nbconvert_exporter": "python",
      "pygments_lexer": "ipython3",
      "version": "3.8.3"
    },
    "colab": {
      "provenance": [],
      "collapsed_sections": [],
      "include_colab_link": true
    }
  },
  "cells": [
    {
      "cell_type": "markdown",
      "metadata": {
        "id": "view-in-github",
        "colab_type": "text"
      },
      "source": [
        "<a href=\"https://colab.research.google.com/github/danielbauer1979/CAS_PredMod/blob/main/pa_pynb_sess7_WineExample.ipynb\" target=\"_parent\"><img src=\"https://colab.research.google.com/assets/colab-badge.svg\" alt=\"Open In Colab\"/></a>"
      ]
    },
    {
      "cell_type": "code",
      "metadata": {
        "id": "7vCC-SQb7VRR"
      },
      "source": [
        "import numpy as np \n",
        "import matplotlib.pyplot as plt  \n",
        "import pandas as pd \n",
        "import seaborn as sns\n",
        "import graphviz\n",
        "import pydot\n",
        "from io import StringIO  \n",
        "\n",
        "from sklearn.model_selection import train_test_split, cross_val_score\n",
        "from sklearn.tree import DecisionTreeRegressor, DecisionTreeClassifier, export_graphviz\n",
        "from sklearn.ensemble import BaggingClassifier, RandomForestClassifier,BaggingRegressor, RandomForestRegressor, GradientBoostingRegressor\n",
        "from sklearn.metrics import mean_squared_error,confusion_matrix, classification_report, roc_curve, auc"
      ],
      "execution_count": 1,
      "outputs": []
    },
    {
      "cell_type": "markdown",
      "metadata": {
        "id": "tRIewfHHQt-u"
      },
      "source": [
        "## WINE EXAMPLE"
      ]
    },
    {
      "cell_type": "code",
      "metadata": {
        "id": "joqrQm2gSDdZ"
      },
      "source": [
        "!git clone https://github.com/danielbauer1979/CAS_PredMod.git"
      ],
      "execution_count": null,
      "outputs": []
    },
    {
      "cell_type": "code",
      "metadata": {
        "id": "jILOaSki7VRX"
      },
      "source": [
        "wine = pd.read_csv('CAS_PredMod/pa_data_winequality-red.csv', sep = ';')\n",
        "wine.head()"
      ],
      "execution_count": null,
      "outputs": []
    },
    {
      "cell_type": "code",
      "metadata": {
        "id": "lU5fNw8oLLiD"
      },
      "source": [
        "wine['quality'] = wine['quality'] > 6\n",
        "wine['quality'].describe()"
      ],
      "execution_count": null,
      "outputs": []
    },
    {
      "cell_type": "code",
      "metadata": {
        "id": "55xSsRHJLUuu"
      },
      "source": [
        "np.random.seed(42)\n",
        "train, test = train_test_split(wine, test_size = 0.5)\n",
        "val, test = train_test_split(test, test_size = 0.5)\n",
        "X_train = train.drop(columns = ['quality']).values\n",
        "y_train = train['quality'].values\n",
        "X_val = val.drop(columns = ['quality']).values\n",
        "y_val = val['quality'].values\n",
        "X_test = test.drop(columns = ['quality']).values\n",
        "y_test = test['quality'].values"
      ],
      "execution_count": 5,
      "outputs": []
    },
    {
      "cell_type": "markdown",
      "metadata": {
        "id": "tjRNxZxKN_Ve"
      },
      "source": [
        "Tree Classifier"
      ]
    },
    {
      "cell_type": "code",
      "metadata": {
        "id": "CtHr5wxjMVkS"
      },
      "source": [
        "import pydot\n",
        "from IPython.display import Image\n",
        "def print_tree(estimator, features, class_names=None, filled=True):\n",
        "  tree = estimator\n",
        "  names = features\n",
        "  color = filled\n",
        "  classn = class_names\n",
        "  dot_data = StringIO()\n",
        "  export_graphviz(estimator, out_file=dot_data,feature_names=features,class_names=classn, filled=filled)\n",
        "  graph = pydot.graph_from_dot_data(dot_data.getvalue())\n",
        "  return(graph)"
      ],
      "execution_count": 6,
      "outputs": []
    },
    {
      "cell_type": "code",
      "metadata": {
        "id": "ft1nFhiHMw9e"
      },
      "source": [
        "wine_tree = DecisionTreeRegressor(min_samples_split=5,min_impurity_decrease=0.002)\n",
        "wine_tree.fit(X_train, y_train)\n",
        "graph, = print_tree(wine_tree, features= train.drop(columns = ['quality']).columns)\n",
        "Image(graph.create_png())"
      ],
      "execution_count": null,
      "outputs": []
    },
    {
      "cell_type": "code",
      "metadata": {
        "id": "6yENe8V-OFnc"
      },
      "source": [
        "wine_tree_preds = wine_tree.predict(X_test)"
      ],
      "execution_count": 8,
      "outputs": []
    },
    {
      "cell_type": "code",
      "metadata": {
        "id": "asBgprV9OLnm"
      },
      "source": [
        "fpr, tpr, threshold = roc_curve(test['quality'], wine_tree_preds)\n",
        "roc_auc = auc(fpr, tpr)\n",
        "plt.title('Receiver Operating Characteristic')\n",
        "plt.plot(fpr, tpr, 'b', label = 'AUC = %0.2f' % roc_auc)\n",
        "plt.legend(loc = 'lower right')\n",
        "plt.plot([0, 1], [0, 1],'r--')\n",
        "plt.xlim([0, 1])\n",
        "plt.ylim([0, 1])\n",
        "plt.ylabel('True Positive Rate')\n",
        "plt.xlabel('False Positive Rate')\n",
        "plt.show()"
      ],
      "execution_count": null,
      "outputs": []
    },
    {
      "cell_type": "markdown",
      "metadata": {
        "id": "9lcvdPSFP6Us"
      },
      "source": [
        "Random Forest"
      ]
    },
    {
      "cell_type": "code",
      "metadata": {
        "id": "Qrbc0IG2P9wB"
      },
      "source": [
        "wine_rf = RandomForestRegressor(max_features='sqrt', n_estimators=250, random_state=1)\n",
        "wine_rf.fit(X_train, y_train)"
      ],
      "execution_count": null,
      "outputs": []
    },
    {
      "cell_type": "code",
      "metadata": {
        "id": "jiQOQLHlSpaM"
      },
      "source": [
        "wine_rf_preds = wine_rf.predict(X_test)"
      ],
      "execution_count": 11,
      "outputs": []
    },
    {
      "cell_type": "code",
      "metadata": {
        "id": "3Zb8HpCfS5Og"
      },
      "source": [
        "fpr, tpr, threshold = roc_curve(test['quality'], wine_rf_preds)\n",
        "roc_auc = auc(fpr, tpr)\n",
        "plt.title('Receiver Operating Characteristic')\n",
        "plt.plot(fpr, tpr, 'b', label = 'AUC = %0.2f' % roc_auc)\n",
        "plt.legend(loc = 'lower right')\n",
        "plt.plot([0, 1], [0, 1],'r--')\n",
        "plt.xlim([0, 1])\n",
        "plt.ylim([0, 1])\n",
        "plt.ylabel('True Positive Rate')\n",
        "plt.xlabel('False Positive Rate')\n",
        "plt.show()"
      ],
      "execution_count": null,
      "outputs": []
    },
    {
      "cell_type": "code",
      "metadata": {
        "id": "SBueHf_3UqNC"
      },
      "source": [
        "confusion_matrix(test['quality'], (wine_rf_preds > 0.5))"
      ],
      "execution_count": null,
      "outputs": []
    },
    {
      "cell_type": "markdown",
      "metadata": {
        "id": "_SrwOVgNTluG"
      },
      "source": [
        "Boosting"
      ]
    },
    {
      "cell_type": "code",
      "metadata": {
        "id": "QQ2YSyicTonk"
      },
      "source": [
        "wine_boost = GradientBoostingRegressor(n_estimators=1000, learning_rate=0.05,random_state=1)\n",
        "wine_boost.fit(X_train, y_train)"
      ],
      "execution_count": null,
      "outputs": []
    },
    {
      "cell_type": "code",
      "metadata": {
        "id": "UfCk7h31T5q3"
      },
      "source": [
        "wine_boost_preds = wine_boost.predict(X_test)"
      ],
      "execution_count": 15,
      "outputs": []
    },
    {
      "cell_type": "code",
      "metadata": {
        "id": "GJyM47K6ULt5"
      },
      "source": [
        "fpr, tpr, threshold = roc_curve(test['quality'], wine_boost_preds)\n",
        "roc_auc = auc(fpr, tpr)\n",
        "plt.title('Receiver Operating Characteristic')\n",
        "plt.plot(fpr, tpr, 'b', label = 'AUC = %0.2f' % roc_auc)\n",
        "plt.legend(loc = 'lower right')\n",
        "plt.plot([0, 1], [0, 1],'r--')\n",
        "plt.xlim([0, 1])\n",
        "plt.ylim([0, 1])\n",
        "plt.ylabel('True Positive Rate')\n",
        "plt.xlabel('False Positive Rate')\n",
        "plt.show()"
      ],
      "execution_count": null,
      "outputs": []
    }
  ]
}